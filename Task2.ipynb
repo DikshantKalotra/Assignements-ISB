{
 "cells": [
  {
   "cell_type": "markdown",
   "id": "b745b649",
   "metadata": {},
   "source": [
    "# Logistic Regression\n",
    "\n",
    "`Problem` - Find whether a user or a customer will purchase a car or not\\\n",
    "`Dataset` - This dataset contains the information of various users obtained from the social networking sites. Contains features like Gender and Salary"
   ]
  },
  {
   "cell_type": "code",
   "execution_count": 15,
   "id": "34e268a0",
   "metadata": {},
   "outputs": [],
   "source": [
    "import pandas as pd\n",
    "from sklearn.preprocessing import StandardScaler\n",
    "from sklearn.model_selection import train_test_split\n",
    "import matplotlib.pyplot as plt\n",
    "from sklearn.linear_model import LogisticRegression\n",
    "from sklearn.metrics import accuracy_score, confusion_matrix\n",
    "import seaborn as sns\n",
    "import numpy as np\n",
    "\n",
    "plt.style.use('dark_background')"
   ]
  },
  {
   "cell_type": "code",
   "execution_count": null,
   "id": "3ad7e2f7",
   "metadata": {},
   "outputs": [],
   "source": [
    "url"
   ]
  },
  {
   "cell_type": "code",
   "execution_count": 2,
   "id": "bd7d02e0",
   "metadata": {},
   "outputs": [],
   "source": [
    "suv_df = pd.read_csv(url)"
   ]
  },
  {
   "cell_type": "code",
   "execution_count": 3,
   "id": "202441be",
   "metadata": {},
   "outputs": [
    {
     "data": {
      "text/html": [
       "<div>\n",
       "<style scoped>\n",
       "    .dataframe tbody tr th:only-of-type {\n",
       "        vertical-align: middle;\n",
       "    }\n",
       "\n",
       "    .dataframe tbody tr th {\n",
       "        vertical-align: top;\n",
       "    }\n",
       "\n",
       "    .dataframe thead th {\n",
       "        text-align: right;\n",
       "    }\n",
       "</style>\n",
       "<table border=\"1\" class=\"dataframe\">\n",
       "  <thead>\n",
       "    <tr style=\"text-align: right;\">\n",
       "      <th></th>\n",
       "      <th>User ID</th>\n",
       "      <th>Gender</th>\n",
       "      <th>Age</th>\n",
       "      <th>EstimatedSalary</th>\n",
       "      <th>Purchased</th>\n",
       "    </tr>\n",
       "  </thead>\n",
       "  <tbody>\n",
       "    <tr>\n",
       "      <th>0</th>\n",
       "      <td>15624510</td>\n",
       "      <td>Male</td>\n",
       "      <td>19</td>\n",
       "      <td>19000</td>\n",
       "      <td>0</td>\n",
       "    </tr>\n",
       "    <tr>\n",
       "      <th>1</th>\n",
       "      <td>15810944</td>\n",
       "      <td>Male</td>\n",
       "      <td>35</td>\n",
       "      <td>20000</td>\n",
       "      <td>0</td>\n",
       "    </tr>\n",
       "    <tr>\n",
       "      <th>2</th>\n",
       "      <td>15668575</td>\n",
       "      <td>Female</td>\n",
       "      <td>26</td>\n",
       "      <td>43000</td>\n",
       "      <td>0</td>\n",
       "    </tr>\n",
       "    <tr>\n",
       "      <th>3</th>\n",
       "      <td>15603246</td>\n",
       "      <td>Female</td>\n",
       "      <td>27</td>\n",
       "      <td>57000</td>\n",
       "      <td>0</td>\n",
       "    </tr>\n",
       "    <tr>\n",
       "      <th>4</th>\n",
       "      <td>15804002</td>\n",
       "      <td>Male</td>\n",
       "      <td>19</td>\n",
       "      <td>76000</td>\n",
       "      <td>0</td>\n",
       "    </tr>\n",
       "  </tbody>\n",
       "</table>\n",
       "</div>"
      ],
      "text/plain": [
       "    User ID  Gender  Age  EstimatedSalary  Purchased\n",
       "0  15624510    Male   19            19000          0\n",
       "1  15810944    Male   35            20000          0\n",
       "2  15668575  Female   26            43000          0\n",
       "3  15603246  Female   27            57000          0\n",
       "4  15804002    Male   19            76000          0"
      ]
     },
     "execution_count": 3,
     "metadata": {},
     "output_type": "execute_result"
    }
   ],
   "source": [
    "suv_df.head()"
   ]
  },
  {
   "cell_type": "code",
   "execution_count": 4,
   "id": "74a569bf",
   "metadata": {},
   "outputs": [
    {
     "data": {
      "text/plain": [
       "<AxesSubplot:>"
      ]
     },
     "execution_count": 4,
     "metadata": {},
     "output_type": "execute_result"
    },
    {
     "data": {
      "image/png": "[encoded data removed]",
      "text/plain": [
       "<Figure size 720x720 with 2 Axes>"
      ]
     },
     "metadata": {},
     "output_type": "display_data"
    }
   ],
   "source": [
    "plt.figure(figsize=(10,10))\n",
    "sns.heatmap(suv_df.corr(), annot=True)"
   ]
  },
  {
   "cell_type": "code",
   "execution_count": 5,
   "id": "d9596d67",
   "metadata": {},
   "outputs": [
    {
     "data": {
      "text/plain": [
       "(400, 5)"
      ]
     },
     "execution_count": 5,
     "metadata": {},
     "output_type": "execute_result"
    }
   ],
   "source": [
    "suv_df.shape"
   ]
  },
  {
   "cell_type": "code",
   "execution_count": 6,
   "id": "835a1467",
   "metadata": {},
   "outputs": [
    {
     "data": {
      "text/plain": [
       "User ID            0\n",
       "Gender             0\n",
       "Age                0\n",
       "EstimatedSalary    0\n",
       "Purchased          0\n",
       "dtype: int64"
      ]
     },
     "execution_count": 6,
     "metadata": {},
     "output_type": "execute_result"
    }
   ],
   "source": [
    "suv_df.isnull().sum() "
   ]
  },
  {
   "cell_type": "code",
   "execution_count": 7,
   "id": "de14ef2a",
   "metadata": {},
   "outputs": [],
   "source": [
    "# storing the target column as an array\n",
    "# dropping the column USER ID because it is useless in predicting the output\n",
    "Y = np.array(suv_df['Purchased'])\n",
    "X = suv_df.drop(suv_df.columns[[0, -1]], axis=1)"
   ]
  },
  {
   "cell_type": "code",
   "execution_count": 8,
   "id": "3dd2be4f",
   "metadata": {},
   "outputs": [
    {
     "data": {
      "text/html": [
       "<div>\n",
       "<style scoped>\n",
       "    .dataframe tbody tr th:only-of-type {\n",
       "        vertical-align: middle;\n",
       "    }\n",
       "\n",
       "    .dataframe tbody tr th {\n",
       "        vertical-align: top;\n",
       "    }\n",
       "\n",
       "    .dataframe thead th {\n",
       "        text-align: right;\n",
       "    }\n",
       "</style>\n",
       "<table border=\"1\" class=\"dataframe\">\n",
       "  <thead>\n",
       "    <tr style=\"text-align: right;\">\n",
       "      <th></th>\n",
       "      <th>Age</th>\n",
       "      <th>EstimatedSalary</th>\n",
       "      <th>Gender_Female</th>\n",
       "      <th>Gender_Male</th>\n",
       "    </tr>\n",
       "  </thead>\n",
       "  <tbody>\n",
       "    <tr>\n",
       "      <th>0</th>\n",
       "      <td>19</td>\n",
       "      <td>19000</td>\n",
       "      <td>0</td>\n",
       "      <td>1</td>\n",
       "    </tr>\n",
       "    <tr>\n",
       "      <th>1</th>\n",
       "      <td>35</td>\n",
       "      <td>20000</td>\n",
       "      <td>0</td>\n",
       "      <td>1</td>\n",
       "    </tr>\n",
       "    <tr>\n",
       "      <th>2</th>\n",
       "      <td>26</td>\n",
       "      <td>43000</td>\n",
       "      <td>1</td>\n",
       "      <td>0</td>\n",
       "    </tr>\n",
       "    <tr>\n",
       "      <th>3</th>\n",
       "      <td>27</td>\n",
       "      <td>57000</td>\n",
       "      <td>1</td>\n",
       "      <td>0</td>\n",
       "    </tr>\n",
       "    <tr>\n",
       "      <th>4</th>\n",
       "      <td>19</td>\n",
       "      <td>76000</td>\n",
       "      <td>0</td>\n",
       "      <td>1</td>\n",
       "    </tr>\n",
       "  </tbody>\n",
       "</table>\n",
       "</div>"
      ],
      "text/plain": [
       "   Age  EstimatedSalary  Gender_Female  Gender_Male\n",
       "0   19            19000              0            1\n",
       "1   35            20000              0            1\n",
       "2   26            43000              1            0\n",
       "3   27            57000              1            0\n",
       "4   19            76000              0            1"
      ]
     },
     "execution_count": 8,
     "metadata": {},
     "output_type": "execute_result"
    }
   ],
   "source": [
    "# Convert the categorical column Gender to numerical -- It adds two new column\n",
    "X = pd.get_dummies(X, columns=['Gender'])\n",
    "X.head()"
   ]
  },
  {
   "cell_type": "code",
   "execution_count": 9,
   "id": "0ca78a92",
   "metadata": {},
   "outputs": [],
   "source": [
    "# scaling the input data between appropriate values\n",
    "scaler = StandardScaler()\n",
    "X = scaler.fit_transform(X)"
   ]
  },
  {
   "cell_type": "code",
   "execution_count": 10,
   "id": "92313ecc",
   "metadata": {},
   "outputs": [],
   "source": [
    "# splitting the input and target columns into test and train , 20% for test and 80% for training\n",
    "X_train, X_test, Y_train, Y_test = train_test_split(X, Y, test_size=0.2, random_state=2)"
   ]
  },
  {
   "cell_type": "code",
   "execution_count": 11,
   "id": "c1cac257",
   "metadata": {},
   "outputs": [
    {
     "data": {
      "text/plain": [
       "LogisticRegression(C=0.01, solver='liblinear')"
      ]
     },
     "execution_count": 11,
     "metadata": {},
     "output_type": "execute_result"
    }
   ],
   "source": [
    "# using optimizer 'liblinear', train the Logistic Regression model\n",
    "lr = LogisticRegression(C=0.01, solver='liblinear')\n",
    "lr.fit(X_train, Y_train)"
   ]
  },
  {
   "cell_type": "code",
   "execution_count": 12,
   "id": "d3d9c773",
   "metadata": {},
   "outputs": [
    {
     "data": {
      "text/plain": [
       "0.825"
      ]
     },
     "execution_count": 12,
     "metadata": {},
     "output_type": "execute_result"
    }
   ],
   "source": [
    "Yhat = lr.predict(X_test)\n",
    "accuracy_score(Y_test, Yhat)  # predicted with an accuracy of 0.825 "
   ]
  },
  {
   "cell_type": "code",
   "execution_count": 16,
   "id": "b64928e3",
   "metadata": {},
   "outputs": [
    {
     "data": {
      "text/plain": [
       "array([[46,  2],\n",
       "       [12, 20]], dtype=int64)"
      ]
     },
     "execution_count": 16,
     "metadata": {},
     "output_type": "execute_result"
    }
   ],
   "source": [
    "confusion_matrix(Y_test, Yhat)"
   ]
  },
  {
   "cell_type": "code",
   "execution_count": 13,
   "id": "0cf8d22b",
   "metadata": {},
   "outputs": [
    {
     "data": {
      "text/plain": [
       "array([[0.64012233, 0.35987767],\n",
       "       [0.82377336, 0.17622664],\n",
       "       [0.61777328, 0.38222672],\n",
       "       [0.66504003, 0.33495997],\n",
       "       [0.37711623, 0.62288377],\n",
       "       [0.56707917, 0.43292083],\n",
       "       [0.70676591, 0.29323409],\n",
       "       [0.75072522, 0.24927478],\n",
       "       [0.55751118, 0.44248882],\n",
       "       [0.46604217, 0.53395783]])"
      ]
     },
     "execution_count": 13,
     "metadata": {},
     "output_type": "execute_result"
    }
   ],
   "source": [
    "# checking the probability of prediction with respect to each class\n",
    "Yhat_prob = lr.predict_proba(X_test)\n",
    "Yhat_prob[:10] "
   ]
  },
  {
   "cell_type": "markdown",
   "id": "873e3d50",
   "metadata": {},
   "source": [
    "# Ordinary Least Square Regresssion\n",
    "\n",
    "`Problem` - Find house prices based on various features such as no. of bedrooms, bathrooms \\\n",
    "`Dataset` - Dataset is taken from statsmodel api , contains features like bathroom, bedrooms, garage, stories"
   ]
  },
  {
   "cell_type": "code",
   "execution_count": 21,
   "id": "21508bd3",
   "metadata": {},
   "outputs": [],
   "source": [
    "import statsmodels.api as sm\n",
    "import statsmodels.formula.api as smf"
   ]
  },
  {
   "cell_type": "code",
   "execution_count": 22,
   "id": "2aab6524",
   "metadata": {},
   "outputs": [
    {
     "data": {
      "text/html": [
       "<div>\n",
       "<style scoped>\n",
       "    .dataframe tbody tr th:only-of-type {\n",
       "        vertical-align: middle;\n",
       "    }\n",
       "\n",
       "    .dataframe tbody tr th {\n",
       "        vertical-align: top;\n",
       "    }\n",
       "\n",
       "    .dataframe thead th {\n",
       "        text-align: right;\n",
       "    }\n",
       "</style>\n",
       "<table border=\"1\" class=\"dataframe\">\n",
       "  <thead>\n",
       "    <tr style=\"text-align: right;\">\n",
       "      <th></th>\n",
       "      <th>price</th>\n",
       "      <th>lotsize</th>\n",
       "      <th>bedrooms</th>\n",
       "      <th>bathrooms</th>\n",
       "      <th>stories</th>\n",
       "      <th>driveway</th>\n",
       "      <th>recreation</th>\n",
       "      <th>fullbase</th>\n",
       "      <th>gasheat</th>\n",
       "      <th>aircon</th>\n",
       "      <th>garage</th>\n",
       "      <th>prefer</th>\n",
       "    </tr>\n",
       "  </thead>\n",
       "  <tbody>\n",
       "    <tr>\n",
       "      <th>0</th>\n",
       "      <td>42000.0</td>\n",
       "      <td>5850</td>\n",
       "      <td>3</td>\n",
       "      <td>1</td>\n",
       "      <td>2</td>\n",
       "      <td>yes</td>\n",
       "      <td>no</td>\n",
       "      <td>yes</td>\n",
       "      <td>no</td>\n",
       "      <td>no</td>\n",
       "      <td>1</td>\n",
       "      <td>no</td>\n",
       "    </tr>\n",
       "    <tr>\n",
       "      <th>1</th>\n",
       "      <td>38500.0</td>\n",
       "      <td>4000</td>\n",
       "      <td>2</td>\n",
       "      <td>1</td>\n",
       "      <td>1</td>\n",
       "      <td>yes</td>\n",
       "      <td>no</td>\n",
       "      <td>no</td>\n",
       "      <td>no</td>\n",
       "      <td>no</td>\n",
       "      <td>0</td>\n",
       "      <td>no</td>\n",
       "    </tr>\n",
       "    <tr>\n",
       "      <th>2</th>\n",
       "      <td>49500.0</td>\n",
       "      <td>3060</td>\n",
       "      <td>3</td>\n",
       "      <td>1</td>\n",
       "      <td>1</td>\n",
       "      <td>yes</td>\n",
       "      <td>no</td>\n",
       "      <td>no</td>\n",
       "      <td>no</td>\n",
       "      <td>no</td>\n",
       "      <td>0</td>\n",
       "      <td>no</td>\n",
       "    </tr>\n",
       "    <tr>\n",
       "      <th>3</th>\n",
       "      <td>60500.0</td>\n",
       "      <td>6650</td>\n",
       "      <td>3</td>\n",
       "      <td>1</td>\n",
       "      <td>2</td>\n",
       "      <td>yes</td>\n",
       "      <td>yes</td>\n",
       "      <td>no</td>\n",
       "      <td>no</td>\n",
       "      <td>no</td>\n",
       "      <td>0</td>\n",
       "      <td>no</td>\n",
       "    </tr>\n",
       "    <tr>\n",
       "      <th>4</th>\n",
       "      <td>61000.0</td>\n",
       "      <td>6360</td>\n",
       "      <td>2</td>\n",
       "      <td>1</td>\n",
       "      <td>1</td>\n",
       "      <td>yes</td>\n",
       "      <td>no</td>\n",
       "      <td>no</td>\n",
       "      <td>no</td>\n",
       "      <td>no</td>\n",
       "      <td>0</td>\n",
       "      <td>no</td>\n",
       "    </tr>\n",
       "    <tr>\n",
       "      <th>5</th>\n",
       "      <td>66000.0</td>\n",
       "      <td>4160</td>\n",
       "      <td>3</td>\n",
       "      <td>1</td>\n",
       "      <td>1</td>\n",
       "      <td>yes</td>\n",
       "      <td>yes</td>\n",
       "      <td>yes</td>\n",
       "      <td>no</td>\n",
       "      <td>yes</td>\n",
       "      <td>0</td>\n",
       "      <td>no</td>\n",
       "    </tr>\n",
       "    <tr>\n",
       "      <th>6</th>\n",
       "      <td>66000.0</td>\n",
       "      <td>3880</td>\n",
       "      <td>3</td>\n",
       "      <td>2</td>\n",
       "      <td>2</td>\n",
       "      <td>yes</td>\n",
       "      <td>no</td>\n",
       "      <td>yes</td>\n",
       "      <td>no</td>\n",
       "      <td>no</td>\n",
       "      <td>2</td>\n",
       "      <td>no</td>\n",
       "    </tr>\n",
       "    <tr>\n",
       "      <th>7</th>\n",
       "      <td>69000.0</td>\n",
       "      <td>4160</td>\n",
       "      <td>3</td>\n",
       "      <td>1</td>\n",
       "      <td>3</td>\n",
       "      <td>yes</td>\n",
       "      <td>no</td>\n",
       "      <td>no</td>\n",
       "      <td>no</td>\n",
       "      <td>no</td>\n",
       "      <td>0</td>\n",
       "      <td>no</td>\n",
       "    </tr>\n",
       "    <tr>\n",
       "      <th>8</th>\n",
       "      <td>83800.0</td>\n",
       "      <td>4800</td>\n",
       "      <td>3</td>\n",
       "      <td>1</td>\n",
       "      <td>1</td>\n",
       "      <td>yes</td>\n",
       "      <td>yes</td>\n",
       "      <td>yes</td>\n",
       "      <td>no</td>\n",
       "      <td>no</td>\n",
       "      <td>0</td>\n",
       "      <td>no</td>\n",
       "    </tr>\n",
       "    <tr>\n",
       "      <th>9</th>\n",
       "      <td>88500.0</td>\n",
       "      <td>5500</td>\n",
       "      <td>3</td>\n",
       "      <td>2</td>\n",
       "      <td>4</td>\n",
       "      <td>yes</td>\n",
       "      <td>yes</td>\n",
       "      <td>no</td>\n",
       "      <td>no</td>\n",
       "      <td>yes</td>\n",
       "      <td>1</td>\n",
       "      <td>no</td>\n",
       "    </tr>\n",
       "  </tbody>\n",
       "</table>\n",
       "</div>"
      ],
      "text/plain": [
       "     price  lotsize  bedrooms  bathrooms  stories driveway recreation  \\\n",
       "0  42000.0     5850         3          1        2      yes         no   \n",
       "1  38500.0     4000         2          1        1      yes         no   \n",
       "2  49500.0     3060         3          1        1      yes         no   \n",
       "3  60500.0     6650         3          1        2      yes        yes   \n",
       "4  61000.0     6360         2          1        1      yes         no   \n",
       "5  66000.0     4160         3          1        1      yes        yes   \n",
       "6  66000.0     3880         3          2        2      yes         no   \n",
       "7  69000.0     4160         3          1        3      yes         no   \n",
       "8  83800.0     4800         3          1        1      yes        yes   \n",
       "9  88500.0     5500         3          2        4      yes        yes   \n",
       "\n",
       "  fullbase gasheat aircon  garage prefer  \n",
       "0      yes      no     no       1     no  \n",
       "1       no      no     no       0     no  \n",
       "2       no      no     no       0     no  \n",
       "3       no      no     no       0     no  \n",
       "4       no      no     no       0     no  \n",
       "5      yes      no    yes       0     no  \n",
       "6      yes      no     no       2     no  \n",
       "7       no      no     no       0     no  \n",
       "8      yes      no     no       0     no  \n",
       "9       no      no    yes       1     no  "
      ]
     },
     "execution_count": 22,
     "metadata": {},
     "output_type": "execute_result"
    }
   ],
   "source": [
    "# dataset is contained in 'AER' package in statsmodle api\n",
    "houseprice_data = sm.datasets.get_rdataset(dataname='HousePrices',package='AER', cache=True).data\n",
    "hp_df = pd.DataFrame(houseprice_data)\n",
    "hp_df.head(10)"
   ]
  },
  {
   "cell_type": "code",
   "execution_count": 300,
   "id": "e3642a1f",
   "metadata": {},
   "outputs": [
    {
     "data": {
      "text/plain": [
       "<AxesSubplot:>"
      ]
     },
     "execution_count": 300,
     "metadata": {},
     "output_type": "execute_result"
    },
    {
     "data": {
      "image/png": "[encoded data removed]",
      "text/plain": [
       "<Figure size 720x720 with 2 Axes>"
      ]
     },
     "metadata": {},
     "output_type": "display_data"
    }
   ],
   "source": [
    "plt.figure(figsize=(10,10))\n",
    "sns.heatmap(hp_df.corr(), annot=True)"
   ]
  },
  {
   "cell_type": "code",
   "execution_count": 201,
   "id": "8e95afbb",
   "metadata": {},
   "outputs": [],
   "source": [
    "# replace yes with 1 and no with 0 in the whole dataset\n",
    "hp_df.replace(['yes', 'no'], [1, 0], inplace=True)"
   ]
  },
  {
   "cell_type": "code",
   "execution_count": 242,
   "id": "00b60868",
   "metadata": {},
   "outputs": [
    {
     "data": {
      "text/html": [
       "<div>\n",
       "<style scoped>\n",
       "    .dataframe tbody tr th:only-of-type {\n",
       "        vertical-align: middle;\n",
       "    }\n",
       "\n",
       "    .dataframe tbody tr th {\n",
       "        vertical-align: top;\n",
       "    }\n",
       "\n",
       "    .dataframe thead th {\n",
       "        text-align: right;\n",
       "    }\n",
       "</style>\n",
       "<table border=\"1\" class=\"dataframe\">\n",
       "  <thead>\n",
       "    <tr style=\"text-align: right;\">\n",
       "      <th></th>\n",
       "      <th>price</th>\n",
       "      <th>lotsize</th>\n",
       "      <th>bedrooms</th>\n",
       "      <th>bathrooms</th>\n",
       "      <th>stories</th>\n",
       "      <th>driveway</th>\n",
       "      <th>recreation</th>\n",
       "      <th>fullbase</th>\n",
       "      <th>gasheat</th>\n",
       "      <th>aircon</th>\n",
       "      <th>garage</th>\n",
       "      <th>prefer</th>\n",
       "    </tr>\n",
       "  </thead>\n",
       "  <tbody>\n",
       "    <tr>\n",
       "      <th>0</th>\n",
       "      <td>42000.0</td>\n",
       "      <td>5850</td>\n",
       "      <td>3</td>\n",
       "      <td>1</td>\n",
       "      <td>2</td>\n",
       "      <td>1</td>\n",
       "      <td>0</td>\n",
       "      <td>1</td>\n",
       "      <td>0</td>\n",
       "      <td>0</td>\n",
       "      <td>1</td>\n",
       "      <td>0</td>\n",
       "    </tr>\n",
       "    <tr>\n",
       "      <th>1</th>\n",
       "      <td>38500.0</td>\n",
       "      <td>4000</td>\n",
       "      <td>2</td>\n",
       "      <td>1</td>\n",
       "      <td>1</td>\n",
       "      <td>1</td>\n",
       "      <td>0</td>\n",
       "      <td>0</td>\n",
       "      <td>0</td>\n",
       "      <td>0</td>\n",
       "      <td>0</td>\n",
       "      <td>0</td>\n",
       "    </tr>\n",
       "    <tr>\n",
       "      <th>2</th>\n",
       "      <td>49500.0</td>\n",
       "      <td>3060</td>\n",
       "      <td>3</td>\n",
       "      <td>1</td>\n",
       "      <td>1</td>\n",
       "      <td>1</td>\n",
       "      <td>0</td>\n",
       "      <td>0</td>\n",
       "      <td>0</td>\n",
       "      <td>0</td>\n",
       "      <td>0</td>\n",
       "      <td>0</td>\n",
       "    </tr>\n",
       "    <tr>\n",
       "      <th>3</th>\n",
       "      <td>60500.0</td>\n",
       "      <td>6650</td>\n",
       "      <td>3</td>\n",
       "      <td>1</td>\n",
       "      <td>2</td>\n",
       "      <td>1</td>\n",
       "      <td>1</td>\n",
       "      <td>0</td>\n",
       "      <td>0</td>\n",
       "      <td>0</td>\n",
       "      <td>0</td>\n",
       "      <td>0</td>\n",
       "    </tr>\n",
       "    <tr>\n",
       "      <th>4</th>\n",
       "      <td>61000.0</td>\n",
       "      <td>6360</td>\n",
       "      <td>2</td>\n",
       "      <td>1</td>\n",
       "      <td>1</td>\n",
       "      <td>1</td>\n",
       "      <td>0</td>\n",
       "      <td>0</td>\n",
       "      <td>0</td>\n",
       "      <td>0</td>\n",
       "      <td>0</td>\n",
       "      <td>0</td>\n",
       "    </tr>\n",
       "  </tbody>\n",
       "</table>\n",
       "</div>"
      ],
      "text/plain": [
       "     price  lotsize  bedrooms  bathrooms  stories  driveway  recreation  \\\n",
       "0  42000.0     5850         3          1        2         1           0   \n",
       "1  38500.0     4000         2          1        1         1           0   \n",
       "2  49500.0     3060         3          1        1         1           0   \n",
       "3  60500.0     6650         3          1        2         1           1   \n",
       "4  61000.0     6360         2          1        1         1           0   \n",
       "\n",
       "   fullbase  gasheat  aircon  garage  prefer  \n",
       "0         1        0       0       1       0  \n",
       "1         0        0       0       0       0  \n",
       "2         0        0       0       0       0  \n",
       "3         0        0       0       0       0  \n",
       "4         0        0       0       0       0  "
      ]
     },
     "execution_count": 242,
     "metadata": {},
     "output_type": "execute_result"
    }
   ],
   "source": [
    "hp_df.head()"
   ]
  },
  {
   "cell_type": "code",
   "execution_count": 210,
   "id": "b5f5c288",
   "metadata": {},
   "outputs": [],
   "source": [
    "# take the appropriate target and input variables\n",
    "Y = hp_df['price']\n",
    "X = hp_df.iloc[ : , 1 : ]"
   ]
  },
  {
   "cell_type": "code",
   "execution_count": 216,
   "id": "d9f7f4ab",
   "metadata": {},
   "outputs": [
    {
     "name": "stderr",
     "output_type": "stream",
     "text": [
      "C:\\Users\\HP\\anaconda3\\lib\\site-packages\\statsmodels\\tsa\\tsatools.py:142: FutureWarning: In a future version of pandas all arguments of concat except for the argument 'objs' will be keyword-only\n",
      "  x = pd.concat(x[::order], 1)\n"
     ]
    }
   ],
   "source": [
    "X = sm.add_constant(X) # ols needs a constant along with the input variables"
   ]
  },
  {
   "cell_type": "code",
   "execution_count": 243,
   "id": "902e3a17",
   "metadata": {},
   "outputs": [
    {
     "data": {
      "text/html": [
       "<div>\n",
       "<style scoped>\n",
       "    .dataframe tbody tr th:only-of-type {\n",
       "        vertical-align: middle;\n",
       "    }\n",
       "\n",
       "    .dataframe tbody tr th {\n",
       "        vertical-align: top;\n",
       "    }\n",
       "\n",
       "    .dataframe thead th {\n",
       "        text-align: right;\n",
       "    }\n",
       "</style>\n",
       "<table border=\"1\" class=\"dataframe\">\n",
       "  <thead>\n",
       "    <tr style=\"text-align: right;\">\n",
       "      <th></th>\n",
       "      <th>const</th>\n",
       "      <th>lotsize</th>\n",
       "      <th>bedrooms</th>\n",
       "      <th>bathrooms</th>\n",
       "      <th>stories</th>\n",
       "      <th>driveway</th>\n",
       "      <th>recreation</th>\n",
       "      <th>fullbase</th>\n",
       "      <th>gasheat</th>\n",
       "      <th>aircon</th>\n",
       "      <th>garage</th>\n",
       "      <th>prefer</th>\n",
       "    </tr>\n",
       "  </thead>\n",
       "  <tbody>\n",
       "    <tr>\n",
       "      <th>0</th>\n",
       "      <td>1.0</td>\n",
       "      <td>5850</td>\n",
       "      <td>3</td>\n",
       "      <td>1</td>\n",
       "      <td>2</td>\n",
       "      <td>1</td>\n",
       "      <td>0</td>\n",
       "      <td>1</td>\n",
       "      <td>0</td>\n",
       "      <td>0</td>\n",
       "      <td>1</td>\n",
       "      <td>0</td>\n",
       "    </tr>\n",
       "    <tr>\n",
       "      <th>1</th>\n",
       "      <td>1.0</td>\n",
       "      <td>4000</td>\n",
       "      <td>2</td>\n",
       "      <td>1</td>\n",
       "      <td>1</td>\n",
       "      <td>1</td>\n",
       "      <td>0</td>\n",
       "      <td>0</td>\n",
       "      <td>0</td>\n",
       "      <td>0</td>\n",
       "      <td>0</td>\n",
       "      <td>0</td>\n",
       "    </tr>\n",
       "    <tr>\n",
       "      <th>2</th>\n",
       "      <td>1.0</td>\n",
       "      <td>3060</td>\n",
       "      <td>3</td>\n",
       "      <td>1</td>\n",
       "      <td>1</td>\n",
       "      <td>1</td>\n",
       "      <td>0</td>\n",
       "      <td>0</td>\n",
       "      <td>0</td>\n",
       "      <td>0</td>\n",
       "      <td>0</td>\n",
       "      <td>0</td>\n",
       "    </tr>\n",
       "    <tr>\n",
       "      <th>3</th>\n",
       "      <td>1.0</td>\n",
       "      <td>6650</td>\n",
       "      <td>3</td>\n",
       "      <td>1</td>\n",
       "      <td>2</td>\n",
       "      <td>1</td>\n",
       "      <td>1</td>\n",
       "      <td>0</td>\n",
       "      <td>0</td>\n",
       "      <td>0</td>\n",
       "      <td>0</td>\n",
       "      <td>0</td>\n",
       "    </tr>\n",
       "    <tr>\n",
       "      <th>4</th>\n",
       "      <td>1.0</td>\n",
       "      <td>6360</td>\n",
       "      <td>2</td>\n",
       "      <td>1</td>\n",
       "      <td>1</td>\n",
       "      <td>1</td>\n",
       "      <td>0</td>\n",
       "      <td>0</td>\n",
       "      <td>0</td>\n",
       "      <td>0</td>\n",
       "      <td>0</td>\n",
       "      <td>0</td>\n",
       "    </tr>\n",
       "  </tbody>\n",
       "</table>\n",
       "</div>"
      ],
      "text/plain": [
       "   const  lotsize  bedrooms  bathrooms  stories  driveway  recreation  \\\n",
       "0    1.0     5850         3          1        2         1           0   \n",
       "1    1.0     4000         2          1        1         1           0   \n",
       "2    1.0     3060         3          1        1         1           0   \n",
       "3    1.0     6650         3          1        2         1           1   \n",
       "4    1.0     6360         2          1        1         1           0   \n",
       "\n",
       "   fullbase  gasheat  aircon  garage  prefer  \n",
       "0         1        0       0       1       0  \n",
       "1         0        0       0       0       0  \n",
       "2         0        0       0       0       0  \n",
       "3         0        0       0       0       0  \n",
       "4         0        0       0       0       0  "
      ]
     },
     "execution_count": 243,
     "metadata": {},
     "output_type": "execute_result"
    }
   ],
   "source": [
    "X.head()"
   ]
  },
  {
   "cell_type": "code",
   "execution_count": 217,
   "id": "fb8527e0",
   "metadata": {},
   "outputs": [
    {
     "data": {
      "text/html": [
       "<table class=\"simpletable\">\n",
       "<caption>OLS Regression Results</caption>\n",
       "<tr>\n",
       "  <th>Dep. Variable:</th>          <td>price</td>      <th>  R-squared:         </th> <td>   0.673</td> \n",
       "</tr>\n",
       "<tr>\n",
       "  <th>Model:</th>                   <td>OLS</td>       <th>  Adj. R-squared:    </th> <td>   0.666</td> \n",
       "</tr>\n",
       "<tr>\n",
       "  <th>Method:</th>             <td>Least Squares</td>  <th>  F-statistic:       </th> <td>   99.97</td> \n",
       "</tr>\n",
       "<tr>\n",
       "  <th>Date:</th>             <td>Mon, 06 Mar 2023</td> <th>  Prob (F-statistic):</th> <td>6.18e-122</td>\n",
       "</tr>\n",
       "<tr>\n",
       "  <th>Time:</th>                 <td>13:41:22</td>     <th>  Log-Likelihood:    </th> <td> -6034.1</td> \n",
       "</tr>\n",
       "<tr>\n",
       "  <th>No. Observations:</th>      <td>   546</td>      <th>  AIC:               </th> <td>1.209e+04</td>\n",
       "</tr>\n",
       "<tr>\n",
       "  <th>Df Residuals:</th>          <td>   534</td>      <th>  BIC:               </th> <td>1.214e+04</td>\n",
       "</tr>\n",
       "<tr>\n",
       "  <th>Df Model:</th>              <td>    11</td>      <th>                     </th>     <td> </td>    \n",
       "</tr>\n",
       "<tr>\n",
       "  <th>Covariance Type:</th>      <td>nonrobust</td>    <th>                     </th>     <td> </td>    \n",
       "</tr>\n",
       "</table>\n",
       "<table class=\"simpletable\">\n",
       "<tr>\n",
       "       <td></td>         <th>coef</th>     <th>std err</th>      <th>t</th>      <th>P>|t|</th>  <th>[0.025</th>    <th>0.975]</th>  \n",
       "</tr>\n",
       "<tr>\n",
       "  <th>const</th>      <td>-4038.3504</td> <td> 3409.471</td> <td>   -1.184</td> <td> 0.237</td> <td>-1.07e+04</td> <td> 2659.271</td>\n",
       "</tr>\n",
       "<tr>\n",
       "  <th>lotsize</th>    <td>    3.5463</td> <td>    0.350</td> <td>   10.124</td> <td> 0.000</td> <td>    2.858</td> <td>    4.234</td>\n",
       "</tr>\n",
       "<tr>\n",
       "  <th>bedrooms</th>   <td> 1832.0035</td> <td> 1047.000</td> <td>    1.750</td> <td> 0.081</td> <td> -224.741</td> <td> 3888.748</td>\n",
       "</tr>\n",
       "<tr>\n",
       "  <th>bathrooms</th>  <td> 1.434e+04</td> <td> 1489.921</td> <td>    9.622</td> <td> 0.000</td> <td> 1.14e+04</td> <td> 1.73e+04</td>\n",
       "</tr>\n",
       "<tr>\n",
       "  <th>stories</th>    <td> 6556.9457</td> <td>  925.290</td> <td>    7.086</td> <td> 0.000</td> <td> 4739.291</td> <td> 8374.600</td>\n",
       "</tr>\n",
       "<tr>\n",
       "  <th>driveway</th>   <td> 6687.7789</td> <td> 2045.246</td> <td>    3.270</td> <td> 0.001</td> <td> 2670.065</td> <td> 1.07e+04</td>\n",
       "</tr>\n",
       "<tr>\n",
       "  <th>recreation</th> <td> 4511.2838</td> <td> 1899.958</td> <td>    2.374</td> <td> 0.018</td> <td>  778.976</td> <td> 8243.592</td>\n",
       "</tr>\n",
       "<tr>\n",
       "  <th>fullbase</th>   <td> 5452.3855</td> <td> 1588.024</td> <td>    3.433</td> <td> 0.001</td> <td> 2332.845</td> <td> 8571.926</td>\n",
       "</tr>\n",
       "<tr>\n",
       "  <th>gasheat</th>    <td> 1.283e+04</td> <td> 3217.597</td> <td>    3.988</td> <td> 0.000</td> <td> 6510.706</td> <td> 1.92e+04</td>\n",
       "</tr>\n",
       "<tr>\n",
       "  <th>aircon</th>     <td> 1.263e+04</td> <td> 1555.021</td> <td>    8.124</td> <td> 0.000</td> <td> 9578.182</td> <td> 1.57e+04</td>\n",
       "</tr>\n",
       "<tr>\n",
       "  <th>garage</th>     <td> 4244.8290</td> <td>  840.544</td> <td>    5.050</td> <td> 0.000</td> <td> 2593.650</td> <td> 5896.008</td>\n",
       "</tr>\n",
       "<tr>\n",
       "  <th>prefer</th>     <td> 9369.5132</td> <td> 1669.091</td> <td>    5.614</td> <td> 0.000</td> <td> 6090.724</td> <td> 1.26e+04</td>\n",
       "</tr>\n",
       "</table>\n",
       "<table class=\"simpletable\">\n",
       "<tr>\n",
       "  <th>Omnibus:</th>       <td>93.454</td> <th>  Durbin-Watson:     </th> <td>   1.604</td>\n",
       "</tr>\n",
       "<tr>\n",
       "  <th>Prob(Omnibus):</th> <td> 0.000</td> <th>  Jarque-Bera (JB):  </th> <td> 247.620</td>\n",
       "</tr>\n",
       "<tr>\n",
       "  <th>Skew:</th>          <td> 0.853</td> <th>  Prob(JB):          </th> <td>1.70e-54</td>\n",
       "</tr>\n",
       "<tr>\n",
       "  <th>Kurtosis:</th>      <td> 5.824</td> <th>  Cond. No.          </th> <td>3.07e+04</td>\n",
       "</tr>\n",
       "</table><br/><br/>Notes:<br/>[1] Standard Errors assume that the covariance matrix of the errors is correctly specified.<br/>[2] The condition number is large, 3.07e+04. This might indicate that there are<br/>strong multicollinearity or other numerical problems."
      ],
      "text/plain": [
       "<class 'statsmodels.iolib.summary.Summary'>\n",
       "\"\"\"\n",
       "                            OLS Regression Results                            \n",
       "==============================================================================\n",
       "Dep. Variable:                  price   R-squared:                       0.673\n",
       "Model:                            OLS   Adj. R-squared:                  0.666\n",
       "Method:                 Least Squares   F-statistic:                     99.97\n",
       "Date:                Mon, 06 Mar 2023   Prob (F-statistic):          6.18e-122\n",
       "Time:                        13:41:22   Log-Likelihood:                -6034.1\n",
       "No. Observations:                 546   AIC:                         1.209e+04\n",
       "Df Residuals:                     534   BIC:                         1.214e+04\n",
       "Df Model:                          11                                         \n",
       "Covariance Type:            nonrobust                                         \n",
       "==============================================================================\n",
       "                 coef    std err          t      P>|t|      [0.025      0.975]\n",
       "------------------------------------------------------------------------------\n",
       "const      -4038.3504   3409.471     -1.184      0.237   -1.07e+04    2659.271\n",
       "lotsize        3.5463      0.350     10.124      0.000       2.858       4.234\n",
       "bedrooms    1832.0035   1047.000      1.750      0.081    -224.741    3888.748\n",
       "bathrooms   1.434e+04   1489.921      9.622      0.000    1.14e+04    1.73e+04\n",
       "stories     6556.9457    925.290      7.086      0.000    4739.291    8374.600\n",
       "driveway    6687.7789   2045.246      3.270      0.001    2670.065    1.07e+04\n",
       "recreation  4511.2838   1899.958      2.374      0.018     778.976    8243.592\n",
       "fullbase    5452.3855   1588.024      3.433      0.001    2332.845    8571.926\n",
       "gasheat     1.283e+04   3217.597      3.988      0.000    6510.706    1.92e+04\n",
       "aircon      1.263e+04   1555.021      8.124      0.000    9578.182    1.57e+04\n",
       "garage      4244.8290    840.544      5.050      0.000    2593.650    5896.008\n",
       "prefer      9369.5132   1669.091      5.614      0.000    6090.724    1.26e+04\n",
       "==============================================================================\n",
       "Omnibus:                       93.454   Durbin-Watson:                   1.604\n",
       "Prob(Omnibus):                  0.000   Jarque-Bera (JB):              247.620\n",
       "Skew:                           0.853   Prob(JB):                     1.70e-54\n",
       "Kurtosis:                       5.824   Cond. No.                     3.07e+04\n",
       "==============================================================================\n",
       "\n",
       "Notes:\n",
       "[1] Standard Errors assume that the covariance matrix of the errors is correctly specified.\n",
       "[2] The condition number is large, 3.07e+04. This might indicate that there are\n",
       "strong multicollinearity or other numerical problems.\n",
       "\"\"\""
      ]
     },
     "execution_count": 217,
     "metadata": {},
     "output_type": "execute_result"
    }
   ],
   "source": [
    "ols = sm.OLS(Y,X).fit()\n",
    "ols.summary() # full summary of the ols model"
   ]
  },
  {
   "cell_type": "code",
   "execution_count": 218,
   "id": "c5f952d7",
   "metadata": {},
   "outputs": [
    {
     "data": {
      "text/plain": [
       "const         -4038.350425\n",
       "lotsize           3.546303\n",
       "bedrooms       1832.003466\n",
       "bathrooms     14335.558468\n",
       "stories        6556.945711\n",
       "driveway       6687.778890\n",
       "recreation     4511.283826\n",
       "fullbase       5452.385539\n",
       "gasheat       12831.406266\n",
       "aircon        12632.890405\n",
       "garage         4244.829004\n",
       "prefer         9369.513239\n",
       "dtype: float64"
      ]
     },
     "execution_count": 218,
     "metadata": {},
     "output_type": "execute_result"
    }
   ],
   "source": [
    "ols.params # prints the coefficient of the corresponding input variables"
   ]
  },
  {
   "cell_type": "markdown",
   "id": "f5b1cac5",
   "metadata": {},
   "source": [
    "# Two Stage Least Square Regression\n",
    "The problem and dataset is same as `OLS` regression but will do things differently here"
   ]
  },
  {
   "cell_type": "code",
   "execution_count": 255,
   "id": "bbb158b7",
   "metadata": {},
   "outputs": [],
   "source": [
    "import linearmodels.iv.model as lm"
   ]
  },
  {
   "cell_type": "code",
   "execution_count": 256,
   "id": "42f8e056",
   "metadata": {},
   "outputs": [
    {
     "data": {
      "text/html": [
       "<div>\n",
       "<style scoped>\n",
       "    .dataframe tbody tr th:only-of-type {\n",
       "        vertical-align: middle;\n",
       "    }\n",
       "\n",
       "    .dataframe tbody tr th {\n",
       "        vertical-align: top;\n",
       "    }\n",
       "\n",
       "    .dataframe thead th {\n",
       "        text-align: right;\n",
       "    }\n",
       "</style>\n",
       "<table border=\"1\" class=\"dataframe\">\n",
       "  <thead>\n",
       "    <tr style=\"text-align: right;\">\n",
       "      <th></th>\n",
       "      <th>const</th>\n",
       "      <th>lotsize</th>\n",
       "      <th>bedrooms</th>\n",
       "      <th>bathrooms</th>\n",
       "      <th>stories</th>\n",
       "      <th>driveway</th>\n",
       "      <th>recreation</th>\n",
       "      <th>fullbase</th>\n",
       "      <th>gasheat</th>\n",
       "      <th>aircon</th>\n",
       "      <th>garage</th>\n",
       "      <th>prefer</th>\n",
       "    </tr>\n",
       "  </thead>\n",
       "  <tbody>\n",
       "    <tr>\n",
       "      <th>0</th>\n",
       "      <td>1.0</td>\n",
       "      <td>5850</td>\n",
       "      <td>3</td>\n",
       "      <td>1</td>\n",
       "      <td>2</td>\n",
       "      <td>1</td>\n",
       "      <td>0</td>\n",
       "      <td>1</td>\n",
       "      <td>0</td>\n",
       "      <td>0</td>\n",
       "      <td>1</td>\n",
       "      <td>0</td>\n",
       "    </tr>\n",
       "    <tr>\n",
       "      <th>1</th>\n",
       "      <td>1.0</td>\n",
       "      <td>4000</td>\n",
       "      <td>2</td>\n",
       "      <td>1</td>\n",
       "      <td>1</td>\n",
       "      <td>1</td>\n",
       "      <td>0</td>\n",
       "      <td>0</td>\n",
       "      <td>0</td>\n",
       "      <td>0</td>\n",
       "      <td>0</td>\n",
       "      <td>0</td>\n",
       "    </tr>\n",
       "    <tr>\n",
       "      <th>2</th>\n",
       "      <td>1.0</td>\n",
       "      <td>3060</td>\n",
       "      <td>3</td>\n",
       "      <td>1</td>\n",
       "      <td>1</td>\n",
       "      <td>1</td>\n",
       "      <td>0</td>\n",
       "      <td>0</td>\n",
       "      <td>0</td>\n",
       "      <td>0</td>\n",
       "      <td>0</td>\n",
       "      <td>0</td>\n",
       "    </tr>\n",
       "    <tr>\n",
       "      <th>3</th>\n",
       "      <td>1.0</td>\n",
       "      <td>6650</td>\n",
       "      <td>3</td>\n",
       "      <td>1</td>\n",
       "      <td>2</td>\n",
       "      <td>1</td>\n",
       "      <td>1</td>\n",
       "      <td>0</td>\n",
       "      <td>0</td>\n",
       "      <td>0</td>\n",
       "      <td>0</td>\n",
       "      <td>0</td>\n",
       "    </tr>\n",
       "    <tr>\n",
       "      <th>4</th>\n",
       "      <td>1.0</td>\n",
       "      <td>6360</td>\n",
       "      <td>2</td>\n",
       "      <td>1</td>\n",
       "      <td>1</td>\n",
       "      <td>1</td>\n",
       "      <td>0</td>\n",
       "      <td>0</td>\n",
       "      <td>0</td>\n",
       "      <td>0</td>\n",
       "      <td>0</td>\n",
       "      <td>0</td>\n",
       "    </tr>\n",
       "  </tbody>\n",
       "</table>\n",
       "</div>"
      ],
      "text/plain": [
       "   const  lotsize  bedrooms  bathrooms  stories  driveway  recreation  \\\n",
       "0    1.0     5850         3          1        2         1           0   \n",
       "1    1.0     4000         2          1        1         1           0   \n",
       "2    1.0     3060         3          1        1         1           0   \n",
       "3    1.0     6650         3          1        2         1           1   \n",
       "4    1.0     6360         2          1        1         1           0   \n",
       "\n",
       "   fullbase  gasheat  aircon  garage  prefer  \n",
       "0         1        0       0       1       0  \n",
       "1         0        0       0       0       0  \n",
       "2         0        0       0       0       0  \n",
       "3         0        0       0       0       0  \n",
       "4         0        0       0       0       0  "
      ]
     },
     "execution_count": 256,
     "metadata": {},
     "output_type": "execute_result"
    }
   ],
   "source": [
    "X.head()"
   ]
  },
  {
   "cell_type": "code",
   "execution_count": 291,
   "id": "69f77e29",
   "metadata": {},
   "outputs": [
    {
     "data": {
      "text/plain": [
       "['const',\n",
       " 'bedrooms',\n",
       " 'bathrooms',\n",
       " 'stories',\n",
       " 'recreation',\n",
       " 'fullbase',\n",
       " 'gasheat',\n",
       " 'aircon',\n",
       " 'prefer']"
      ]
     },
     "execution_count": 291,
     "metadata": {},
     "output_type": "execute_result"
    }
   ],
   "source": [
    "cols = X.columns.to_list()\n",
    "cols.remove('lotsize')\n",
    "cols.remove('garage')\n",
    "cols.remove('driveway')\n",
    "cols"
   ]
  },
  {
   "cell_type": "code",
   "execution_count": 292,
   "id": "50f62d7e",
   "metadata": {},
   "outputs": [],
   "source": [
    "#store the endog, exog and instrument variables separately\n",
    "\n",
    "exog_v = X[cols]\n",
    "endog_v = X['lotsize']\n",
    "intstrument_v = X[['driveway', 'garage']]"
   ]
  },
  {
   "cell_type": "code",
   "execution_count": 294,
   "id": "84e045dd",
   "metadata": {},
   "outputs": [],
   "source": [
    "# used covariance type as homoskedastic which signifies that the error term is constant\n",
    "\n",
    "sls2 = lm.IV2SLS(dependent=Y, exog=exog_v, endog=endog_v, instruments=instrument_v).fit(cov_type=\"homoskedastic\", debiased=True)"
   ]
  },
  {
   "cell_type": "code",
   "execution_count": 295,
   "id": "fcc2a0f2",
   "metadata": {},
   "outputs": [
    {
     "data": {
      "text/html": [
       "<table class=\"simpletable\">\n",
       "<caption>IV-2SLS Estimation Summary</caption>\n",
       "<tr>\n",
       "  <th>Dep. Variable:</th>          <td>price</td>      <th>  R-squared:         </th>  <td>0.4822</td> \n",
       "</tr>\n",
       "<tr>\n",
       "  <th>Estimator:</th>             <td>IV-2SLS</td>     <th>  Adj. R-squared:    </th>  <td>0.4735</td> \n",
       "</tr>\n",
       "<tr>\n",
       "  <th>No. Observations:</th>        <td>546</td>       <th>  F-statistic:       </th>  <td>70.194</td> \n",
       "</tr>\n",
       "<tr>\n",
       "  <th>Date:</th>             <td>Mon, Mar 06 2023</td> <th>  P-value (F-stat)   </th>  <td>0.0000</td> \n",
       "</tr>\n",
       "<tr>\n",
       "  <th>Time:</th>                 <td>14:16:15</td>     <th>  Distribution:      </th> <td>F(9,536)</td>\n",
       "</tr>\n",
       "<tr>\n",
       "  <th>Cov. Estimator:</th>     <td>homoskedastic</td>  <th>                     </th>     <td></td>    \n",
       "</tr>\n",
       "<tr>\n",
       "  <th></th>                          <td></td>         <th>                     </th>     <td></td>    \n",
       "</tr>\n",
       "</table>\n",
       "<table class=\"simpletable\">\n",
       "<caption>Parameter Estimates</caption>\n",
       "<tr>\n",
       "       <td></td>       <th>Parameter</th> <th>Std. Err.</th> <th>T-stat</th>  <th>P-value</th>  <th>Lower CI</th>  <th>Upper CI</th> \n",
       "</tr>\n",
       "<tr>\n",
       "  <th>const</th>      <td>-1.966e+04</td>  <td>5345.2</td>   <td>-3.6774</td> <td>0.0003</td>  <td>-3.016e+04</td>  <td>-9156.4</td> \n",
       "</tr>\n",
       "<tr>\n",
       "  <th>bedrooms</th>     <td>405.23</td>    <td>1330.7</td>   <td>0.3045</td>  <td>0.7608</td>    <td>-2208.8</td>   <td>3019.3</td>  \n",
       "</tr>\n",
       "<tr>\n",
       "  <th>bathrooms</th>   <td>1.174e+04</td>  <td>1961.6</td>   <td>5.9860</td>  <td>0.0000</td>    <td>7888.7</td>   <td>1.56e+04</td> \n",
       "</tr>\n",
       "<tr>\n",
       "  <th>stories</th>      <td>7691.5</td>    <td>1164.0</td>   <td>6.6079</td>  <td>0.0000</td>    <td>5405.0</td>    <td>9978.1</td>  \n",
       "</tr>\n",
       "<tr>\n",
       "  <th>recreation</th>   <td>1525.9</td>    <td>2444.9</td>   <td>0.6241</td>  <td>0.5328</td>    <td>-3276.7</td>   <td>6328.6</td>  \n",
       "</tr>\n",
       "<tr>\n",
       "  <th>fullbase</th>     <td>7628.9</td>    <td>2027.1</td>   <td>3.7634</td>  <td>0.0002</td>    <td>3646.8</td>   <td>1.161e+04</td>\n",
       "</tr>\n",
       "<tr>\n",
       "  <th>gasheat</th>     <td>1.334e+04</td>  <td>4032.5</td>   <td>3.3073</td>  <td>0.0010</td>    <td>5415.0</td>   <td>2.126e+04</td>\n",
       "</tr>\n",
       "<tr>\n",
       "  <th>aircon</th>       <td>9041.5</td>    <td>2124.5</td>   <td>4.2559</td>  <td>0.0000</td>    <td>4868.2</td>   <td>1.321e+04</td>\n",
       "</tr>\n",
       "<tr>\n",
       "  <th>prefer</th>       <td>4475.9</td>    <td>2357.7</td>   <td>1.8984</td>  <td>0.0582</td>    <td>-155.56</td>   <td>9107.3</td>  \n",
       "</tr>\n",
       "<tr>\n",
       "  <th>lotsize</th>      <td>9.7298</td>    <td>1.1325</td>   <td>8.5917</td>  <td>0.0000</td>    <td>7.5052</td>    <td>11.954</td>  \n",
       "</tr>\n",
       "</table><br/><br/>Endogenous: lotsize<br/>Instruments: driveway.yes, garage<br/>Unadjusted Covariance (Homoskedastic)<br/>Debiased: True"
      ],
      "text/plain": [
       "<class 'linearmodels.compat.statsmodels.Summary'>\n",
       "\"\"\"\n",
       "                          IV-2SLS Estimation Summary                          \n",
       "==============================================================================\n",
       "Dep. Variable:                  price   R-squared:                      0.4822\n",
       "Estimator:                    IV-2SLS   Adj. R-squared:                 0.4735\n",
       "No. Observations:                 546   F-statistic:                    70.194\n",
       "Date:                Mon, Mar 06 2023   P-value (F-stat)                0.0000\n",
       "Time:                        14:16:15   Distribution:                 F(9,536)\n",
       "Cov. Estimator:         homoskedastic                                         \n",
       "                                                                              \n",
       "                             Parameter Estimates                              \n",
       "==============================================================================\n",
       "            Parameter  Std. Err.     T-stat    P-value    Lower CI    Upper CI\n",
       "------------------------------------------------------------------------------\n",
       "const      -1.966e+04     5345.2    -3.6774     0.0003  -3.016e+04     -9156.4\n",
       "bedrooms       405.23     1330.7     0.3045     0.7608     -2208.8      3019.3\n",
       "bathrooms   1.174e+04     1961.6     5.9860     0.0000      7888.7    1.56e+04\n",
       "stories        7691.5     1164.0     6.6079     0.0000      5405.0      9978.1\n",
       "recreation     1525.9     2444.9     0.6241     0.5328     -3276.7      6328.6\n",
       "fullbase       7628.9     2027.1     3.7634     0.0002      3646.8   1.161e+04\n",
       "gasheat     1.334e+04     4032.5     3.3073     0.0010      5415.0   2.126e+04\n",
       "aircon         9041.5     2124.5     4.2559     0.0000      4868.2   1.321e+04\n",
       "prefer         4475.9     2357.7     1.8984     0.0582     -155.56      9107.3\n",
       "lotsize        9.7298     1.1325     8.5917     0.0000      7.5052      11.954\n",
       "==============================================================================\n",
       "\n",
       "Endogenous: lotsize\n",
       "Instruments: driveway.yes, garage\n",
       "Unadjusted Covariance (Homoskedastic)\n",
       "Debiased: True\n",
       "\"\"\""
      ]
     },
     "execution_count": 295,
     "metadata": {},
     "output_type": "execute_result"
    }
   ],
   "source": [
    "sls2.summary"
   ]
  }
 ],
 "metadata": {
  "kernelspec": {
   "display_name": "Python 3",
   "language": "python",
   "name": "python3"
  },
  "language_info": {
   "codemirror_mode": {
    "name": "ipython",
    "version": 3
   },
   "file_extension": ".py",
   "mimetype": "text/x-python",
   "name": "python",
   "nbconvert_exporter": "python",
   "pygments_lexer": "ipython3",
   "version": "3.8.8"
  }
 },
 "nbformat": 4,
 "nbformat_minor": 5
}
