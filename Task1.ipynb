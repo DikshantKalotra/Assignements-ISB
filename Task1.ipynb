{
 "cells": [
  {
   "cell_type": "markdown",
   "metadata": {},
   "source": [
    "## Description\n",
    "\n",
    "This project is for scraping the nfts from the site https://raritysniper.com. The website uses javascript to load the nfts i.e. You have to scroll to show all the nft collections and nfts. \\\n",
    "A total of 2019 collections were present and each collection had about 6000 nfts which makes a total of 12 million nfts\\\n",
    "approximately. The code in this project is scalable and can be used to extract all the nfts.\\\n",
    "\\\n",
    "Due to the limitation of specifications of my device, it took me around 7 hours to scrape 5000 nfts. Thats why, I scraped only around 10000 nfts.\\\n",
    "\\\n",
    "But again, this code is scalable and can be altered according to the specifications of the users device.\\\n",
    "As the rarity score of the nfts was visible only when hovered or if the nft was clicked.\\\n",
    "I chose the latter and it  added to the scraping time. Halting the driver to let the scrolled nfts to load , too added to the time.\\\n",
    "\\\n",
    "I extracted top 50 nfts from 200 nft collections"
   ]
  },
  {
   "cell_type": "code",
   "execution_count": 2,
   "metadata": {},
   "outputs": [],
   "source": [
    "from bs4 import BeautifulSoup  \n",
    "from selenium import webdriver\n",
    "import pandas as pd\n",
    "import time\n",
    "import pickle                                   #for dumping and loading to files\n",
    "from selenium.webdriver.common.by import By\n",
    "from selenium.webdriver.common.keys import Keys\n",
    "\n",
    "pd.set_option(\"display.max_rows\", None)"
   ]
  },
  {
   "cell_type": "markdown",
   "metadata": {},
   "source": [
    "-  `render_page` - This function will scroll the driver to end of the site and return it. If we want all the  urls embedded in the `collections` page , we will use this function. It will return approx 2000 urls. Not using this function will only return some 24 urls as the page uses javascript and the only way to get all the urls is to manually scroll through the page. \n",
    " "
   ]
  },
  {
   "cell_type": "code",
   "execution_count": 2,
   "metadata": {},
   "outputs": [],
   "source": [
    "def render_page(url):\n",
    "    driver = webdriver.Chrome()   #generate a driver\n",
    "    driver.get(url)               #going to the url\n",
    "    driver.maximize_window()     #maximizes the window\n",
    "    time.sleep(2)                #waits 2 seconds after loading\n",
    "    screen_height = driver.execute_script(\"return window.screen.height;\") #get current screen height\n",
    "    i = 1\n",
    "    #This loop will run until we reach the end of the infinite scrol\n",
    "    while True:\n",
    "        #scroll the page to the next screen height one by one\n",
    "        driver.execute_script(\"window.scrollTo(0, {screen_height}*{i});\".format(screen_height=screen_height, i=i))\n",
    "        i += 1\n",
    "        #wait 5 seconds to load the elements after scrolling\n",
    "        time.sleep(5)\n",
    "        #get current scrollHeight\n",
    "        scroll_height = driver.execute_script(\"return document.body.scrollHeight;\")  \n",
    "        #break the loop if the screen height exceeds the scroll height\n",
    "        if (screen_height) * i > scroll_height:\n",
    "            break\n",
    "    return driver"
   ]
  },
  {
   "cell_type": "markdown",
   "metadata": {},
   "source": [
    "- `render_child` - Same function as above, only differs in the method of scrolling. Also ,the number of scrolls are limited.Used for rendering the nfts embedded in the collection obtained from the `collections` page \n"
   ]
  },
  {
   "cell_type": "code",
   "execution_count": 3,
   "metadata": {},
   "outputs": [],
   "source": [
    "def render_child(url):\n",
    "    driver = webdriver.Chrome()\n",
    "    driver.get(url)\n",
    "    driver.maximize_window()\n",
    "    time.sleep(2)\n",
    "    # find the body tag and use keys to scroll driver down the page only limited number of times\n",
    "    \n",
    "    for timer in range(8):\n",
    "        driver.find_element(By.TAG_NAME, \"body\").send_keys(Keys.PAGE_DOWN)\n",
    "        time.sleep(3.5)\n",
    "        \n",
    "    return driver"
   ]
  },
  {
   "cell_type": "markdown",
   "metadata": {},
   "source": [
    "- `get_links` - This function is used to get extract links from the url \n",
    "(https://raritysniper.com/nft-collections ) and return them in list."
   ]
  },
  {
   "cell_type": "markdown",
   "metadata": {},
   "source": [
    "In the the page that has all the collections, I extracted the uls from the div elements that have the value of atrribute 'slot' as 'hit'"
   ]
  },
  {
   "cell_type": "code",
   "execution_count": 4,
   "metadata": {},
   "outputs": [],
   "source": [
    "\n",
    "def get_links(url):\n",
    "    links = []\n",
    "    driver = render_page(url)\n",
    "    # using BeautifulSoup to parse the page source obtained from driver as html\n",
    "    \n",
    "    soup = BeautifulSoup(driver.page_source, \"html.parser\")\n",
    "    for x in soup.find_all(\"div\", attrs={\"slot\" : \"hit\"}):\n",
    "        links.append(x.find(\"a\")[\"href\"])\n",
    "    \n",
    "    return links"
   ]
  },
  {
   "cell_type": "markdown",
   "metadata": {},
   "source": [
    "- `find_all_occurances` - A helper function which returns the indexes of a substring in the original string"
   ]
  },
  {
   "cell_type": "code",
   "execution_count": 5,
   "metadata": {},
   "outputs": [],
   "source": [
    "# returns a generator object \n",
    "def find_all_occurances(sub, og):\n",
    "    start = 0\n",
    "    while True:\n",
    "        start = og.find(sub, start)\n",
    "        if start == -1: \n",
    "            return\n",
    "        yield start\n",
    "        start += len(sub)"
   ]
  },
  {
   "cell_type": "markdown",
   "metadata": {},
   "source": [
    "- `get_ids` - This function will return the `id` for every nft embedded in the particular collection."
   ]
  },
  {
   "cell_type": "code",
   "execution_count": 6,
   "metadata": {},
   "outputs": [],
   "source": [
    "#returns a list of ids\n",
    "def get_ids(url):\n",
    "    ids = []\n",
    "    driver = render_child(url)\n",
    "    elems = driver.find_elements(By.ID, \"wrap\") #find the elements with 'id' -> 'wrap' \n",
    "   \n",
    "    #next few lines will filter the 'ids' from the string\n",
    "    \n",
    "    s1 = str(elems[0].text)\n",
    "    s1 = s1.replace(\"\\n\", \" \")\n",
    "    loc = list(find_all_occurances(\"#\", s1)) \n",
    "    \n",
    "    # 'id' is placed next to the character '#'\n",
    "    \n",
    "    for i in loc:\n",
    "        s = \"\"\n",
    "        c = i+1\n",
    "        #get the characters unitl a space is occured\n",
    "        while s1[c]!=\" \":\n",
    "            s += s1[c]\n",
    "            c += 1\n",
    "        ids.append(s)\n",
    "        \n",
    "    return ids"
   ]
  },
  {
   "cell_type": "markdown",
   "metadata": {},
   "source": [
    "- `get_ranks_and_scores` - Used to extract the rarity score and the associated rank of a nft"
   ]
  },
  {
   "cell_type": "code",
   "execution_count": 7,
   "metadata": {},
   "outputs": [],
   "source": [
    "#returns two lists - ranks and rarity scores\n",
    "def get_ranks_and_scores(ids, url):\n",
    "    ranks = []\n",
    "    scores = []\n",
    "    driver = webdriver.Chrome()\n",
    "    for idx_ in range(len(ids)):\n",
    "        r = \"\"\n",
    "        driver.get(url + \"/\"+ ids[idx_])\n",
    "        time.sleep(3)\n",
    "        rank = driver.find_element('xpath',\n",
    "                    '//*[@id=\"wrap\"]/div[1]/div[3]/div/div/div/div/div/div[2]/div[1]/div[1]/div[1]/div').text\n",
    "        for i in range(1,len(rank)+1):\n",
    "            if rank[-1*i] == \" \":\n",
    "                break\n",
    "            r += rank[-1*i]\n",
    "        rank = r[::-1]\n",
    "        score = driver.find_element(\"xpath\", \n",
    "                    '//*[@id=\"wrap\"]/div[1]/div[3]/div/div/div/div/div/div[2]/div[1]/div[2]/div[3]/div/span[3]').text\n",
    "        ranks.append(rank)\n",
    "        scores.append(score)\n",
    "    return ranks, scores"
   ]
  },
  {
   "cell_type": "code",
   "execution_count": 8,
   "metadata": {},
   "outputs": [],
   "source": [
    "url_col = \"https://raritysniper.com/nft-collections\"\n",
    "url_main = \"https://raritysniper.com\""
   ]
  },
  {
   "cell_type": "markdown",
   "metadata": {},
   "source": [
    " I saved all the links in a text file so that i dont need to get the links again\\\n",
    " Next cell can be uncommented if the links are to searched again "
   ]
  },
  {
   "cell_type": "code",
   "execution_count": 9,
   "metadata": {},
   "outputs": [],
   "source": [
    "# links = get_links(url_col)      \n",
    "# len(links)                      "
   ]
  },
  {
   "cell_type": "code",
   "execution_count": 10,
   "metadata": {},
   "outputs": [],
   "source": [
    "with open(\"links.txt\",\"rb\") as f:\n",
    "    links = pickle.load(f)"
   ]
  },
  {
   "cell_type": "code",
   "execution_count": 12,
   "metadata": {},
   "outputs": [
    {
     "name": "stdout",
     "output_type": "stream",
     "text": [
      "https://raritysniper.com/tutti-frutiz\n",
      "<Response [200]>\n",
      "https://raritysniper.com/turtle-united-genesis\n",
      "<Response [200]>\n",
      "https://raritysniper.com/cronoscruiser\n",
      "<Response [200]>\n",
      "https://raritysniper.com/kart-racing-league-racers\n",
      "<Response [200]>\n",
      "https://raritysniper.com/mad-meerkat-burrow-poly\n",
      "<Response [200]>\n"
     ]
    }
   ],
   "source": [
    "# check if the links are working -- response [200] will mean it works\n",
    "import requests\n",
    "for link in links[100:105]:\n",
    "    print(url_main+link)\n",
    "    print(requests.get(url_main+link))"
   ]
  },
  {
   "cell_type": "code",
   "execution_count": 13,
   "metadata": {},
   "outputs": [
    {
     "data": {
      "text/plain": [
       "2019"
      ]
     },
     "execution_count": 13,
     "metadata": {},
     "output_type": "execute_result"
    }
   ],
   "source": [
    "len(links)"
   ]
  },
  {
   "cell_type": "markdown",
   "metadata": {},
   "source": [
    "Next cell is the main loop that will collect the id, parent collection, rank and rarity score of every nft \\\n",
    "uses all the functions mentioned above \\\n",
    "I have limited the number of collections and the nfts in each collection to be explored"
   ]
  },
  {
   "cell_type": "markdown",
   "metadata": {},
   "source": [
    "I ran the below cell three times with different parent and child values.\\\n",
    "The main goal was to scrape 10050 nfts. I decided to divide it into 2 parts : first to get 5000 nfts on one and second to get next 5050 nfts.\\\n",
    "But I ran into an error in the second run and got only 1850 nfts. To get the remaining 3200 ( or rather 3198) I had to to initate a third run.  \\\n",
    "But for each run, I stored the scraped nfts into csv files.\\\n",
    "And at last, combined all three files to get the final csv file."
   ]
  },
  {
   "cell_type": "code",
   "execution_count": 39,
   "metadata": {},
   "outputs": [
    {
     "name": "stdout",
     "output_type": "stream",
     "text": [
      "Wall time: 4h 22min 50s\n"
     ]
    }
   ],
   "source": [
    "%%time\n",
    "limit_child = 50\n",
    "limit_parent = 201\n",
    "parent = []\n",
    "length = []\n",
    "ids = []\n",
    "ranks = []\n",
    "scores = []\n",
    "for link in links[137 : limit_parent]:\n",
    "    url_child = url_main + link\n",
    "    name = link[1:].replace(\"-\",\" \").upper()\n",
    "    ids_ = get_ids(url_child)\n",
    "    ranks_, scores_ = get_ranks_and_scores(ids_[ : limit_child], url_child)\n",
    "    ids.extend(ids_[ : limit_child])\n",
    "    parent.append(name)\n",
    "    length.append(len(ids_[ : limit_child]))\n",
    "    ranks.extend(ranks_)\n",
    "    scores.extend(scores_)"
   ]
  },
  {
   "cell_type": "code",
   "execution_count": 89,
   "metadata": {},
   "outputs": [
    {
     "data": {
      "text/plain": [
       "(3198, 3198, 3198, 64, 64)"
      ]
     },
     "execution_count": 89,
     "metadata": {},
     "output_type": "execute_result"
    }
   ],
   "source": [
    "len(scores), len(ids), len(ranks), len(parent), len(length)"
   ]
  },
  {
   "cell_type": "code",
   "execution_count": 90,
   "metadata": {},
   "outputs": [],
   "source": [
    "# Altering types of every list\n",
    "\n",
    "length = [int(l) for l in length]\n",
    "ids = [int(d) for d in ids]\n",
    "ranks = [int(r) for r in ranks]\n",
    "scores = [float(s) for s in scores]"
   ]
  },
  {
   "cell_type": "code",
   "execution_count": 91,
   "metadata": {},
   "outputs": [],
   "source": [
    "#main dictionary for storing information\n",
    "data_dict = {'Id': [], 'Parent' : [], 'Rank' : [], 'Rarity Score' : []}"
   ]
  },
  {
   "cell_type": "code",
   "execution_count": 95,
   "metadata": {},
   "outputs": [],
   "source": [
    "#stores the parent of each nft\n",
    "idx = 0\n",
    "for p in parent:\n",
    "    data_dict['Parent'].extend([p]*length[idx])\n",
    "    idx += 1"
   ]
  },
  {
   "cell_type": "code",
   "execution_count": 96,
   "metadata": {
    "scrolled": true
   },
   "outputs": [],
   "source": [
    "data_dict['Id'].extend(ids)\n",
    "data_dict['Rank'].extend(ranks)\n",
    "data_dict['Rarity Score'].extend(scores)"
   ]
  },
  {
   "cell_type": "code",
   "execution_count": 134,
   "metadata": {},
   "outputs": [
    {
     "data": {
      "text/html": [
       "<div>\n",
       "<style scoped>\n",
       "    .dataframe tbody tr th:only-of-type {\n",
       "        vertical-align: middle;\n",
       "    }\n",
       "\n",
       "    .dataframe tbody tr th {\n",
       "        vertical-align: top;\n",
       "    }\n",
       "\n",
       "    .dataframe thead th {\n",
       "        text-align: right;\n",
       "    }\n",
       "</style>\n",
       "<table border=\"1\" class=\"dataframe\">\n",
       "  <thead>\n",
       "    <tr style=\"text-align: right;\">\n",
       "      <th></th>\n",
       "      <th>Id</th>\n",
       "      <th>Parent</th>\n",
       "      <th>Rank</th>\n",
       "      <th>Rarity Score</th>\n",
       "    </tr>\n",
       "  </thead>\n",
       "  <tbody>\n",
       "    <tr>\n",
       "      <th>0</th>\n",
       "      <td>172</td>\n",
       "      <td>THE ARISTOCRATS SOCIETY</td>\n",
       "      <td>1</td>\n",
       "      <td>29515.91</td>\n",
       "    </tr>\n",
       "    <tr>\n",
       "      <th>1</th>\n",
       "      <td>197</td>\n",
       "      <td>THE ARISTOCRATS SOCIETY</td>\n",
       "      <td>2</td>\n",
       "      <td>28520.86</td>\n",
       "    </tr>\n",
       "    <tr>\n",
       "      <th>2</th>\n",
       "      <td>69</td>\n",
       "      <td>THE ARISTOCRATS SOCIETY</td>\n",
       "      <td>3</td>\n",
       "      <td>27514.13</td>\n",
       "    </tr>\n",
       "    <tr>\n",
       "      <th>3</th>\n",
       "      <td>247</td>\n",
       "      <td>THE ARISTOCRATS SOCIETY</td>\n",
       "      <td>4</td>\n",
       "      <td>26541.78</td>\n",
       "    </tr>\n",
       "    <tr>\n",
       "      <th>4</th>\n",
       "      <td>248</td>\n",
       "      <td>THE ARISTOCRATS SOCIETY</td>\n",
       "      <td>5</td>\n",
       "      <td>25631.87</td>\n",
       "    </tr>\n",
       "  </tbody>\n",
       "</table>\n",
       "</div>"
      ],
      "text/plain": [
       "    Id                   Parent  Rank  Rarity Score\n",
       "0  172  THE ARISTOCRATS SOCIETY     1      29515.91\n",
       "1  197  THE ARISTOCRATS SOCIETY     2      28520.86\n",
       "2   69  THE ARISTOCRATS SOCIETY     3      27514.13\n",
       "3  247  THE ARISTOCRATS SOCIETY     4      26541.78\n",
       "4  248  THE ARISTOCRATS SOCIETY     5      25631.87"
      ]
     },
     "execution_count": 134,
     "metadata": {},
     "output_type": "execute_result"
    }
   ],
   "source": [
    "df3 = pd.DataFrame(data_dict)\n",
    "df3.head()"
   ]
  },
  {
   "cell_type": "code",
   "execution_count": 98,
   "metadata": {},
   "outputs": [
    {
     "data": {
      "text/plain": [
       "(3198, 4)"
      ]
     },
     "execution_count": 98,
     "metadata": {},
     "output_type": "execute_result"
    }
   ],
   "source": [
    "df3.shape"
   ]
  },
  {
   "cell_type": "code",
   "execution_count": 135,
   "metadata": {},
   "outputs": [
    {
     "data": {
      "text/html": [
       "<div>\n",
       "<style scoped>\n",
       "    .dataframe tbody tr th:only-of-type {\n",
       "        vertical-align: middle;\n",
       "    }\n",
       "\n",
       "    .dataframe tbody tr th {\n",
       "        vertical-align: top;\n",
       "    }\n",
       "\n",
       "    .dataframe thead th {\n",
       "        text-align: right;\n",
       "    }\n",
       "</style>\n",
       "<table border=\"1\" class=\"dataframe\">\n",
       "  <thead>\n",
       "    <tr style=\"text-align: right;\">\n",
       "      <th></th>\n",
       "      <th>Id</th>\n",
       "      <th>Parent</th>\n",
       "      <th>Rank</th>\n",
       "      <th>Rarity Score</th>\n",
       "    </tr>\n",
       "  </thead>\n",
       "  <tbody>\n",
       "    <tr>\n",
       "      <th>3193</th>\n",
       "      <td>85</td>\n",
       "      <td>ELEPHANTS</td>\n",
       "      <td>46</td>\n",
       "      <td>17574.26</td>\n",
       "    </tr>\n",
       "    <tr>\n",
       "      <th>3194</th>\n",
       "      <td>4752</td>\n",
       "      <td>ELEPHANTS</td>\n",
       "      <td>47</td>\n",
       "      <td>17531.74</td>\n",
       "    </tr>\n",
       "    <tr>\n",
       "      <th>3195</th>\n",
       "      <td>7507</td>\n",
       "      <td>ELEPHANTS</td>\n",
       "      <td>48</td>\n",
       "      <td>17391.00</td>\n",
       "    </tr>\n",
       "    <tr>\n",
       "      <th>3196</th>\n",
       "      <td>4937</td>\n",
       "      <td>ELEPHANTS</td>\n",
       "      <td>49</td>\n",
       "      <td>17291.97</td>\n",
       "    </tr>\n",
       "    <tr>\n",
       "      <th>3197</th>\n",
       "      <td>3789</td>\n",
       "      <td>ELEPHANTS</td>\n",
       "      <td>50</td>\n",
       "      <td>17267.12</td>\n",
       "    </tr>\n",
       "  </tbody>\n",
       "</table>\n",
       "</div>"
      ],
      "text/plain": [
       "        Id     Parent  Rank  Rarity Score\n",
       "3193    85  ELEPHANTS    46      17574.26\n",
       "3194  4752  ELEPHANTS    47      17531.74\n",
       "3195  7507  ELEPHANTS    48      17391.00\n",
       "3196  4937  ELEPHANTS    49      17291.97\n",
       "3197  3789  ELEPHANTS    50      17267.12"
      ]
     },
     "execution_count": 135,
     "metadata": {},
     "output_type": "execute_result"
    }
   ],
   "source": [
    "df3.tail()"
   ]
  },
  {
   "cell_type": "code",
   "execution_count": 100,
   "metadata": {},
   "outputs": [],
   "source": [
    "#df.to_csv(\"collections1.csv\")  #to store the first 5000 nfts \n",
    "#df.to_csv(\"collections2.csv\")  #to store the next 1850 nfts\n",
    "df3.to_csv(\"collection3.csv\")    #for the next 3198 nfts"
   ]
  },
  {
   "cell_type": "code",
   "execution_count": 133,
   "metadata": {},
   "outputs": [],
   "source": [
    "# merge all the loaded csv files into one"
   ]
  },
  {
   "cell_type": "code",
   "execution_count": 3,
   "metadata": {},
   "outputs": [],
   "source": [
    "df1 = pd.read_csv(\"collection1.csv\")\n",
    "df2 = pd.read_csv(\"collection2.csv\")\n",
    "df3 = pd.read_csv(\"collection3.csv\")"
   ]
  },
  {
   "cell_type": "code",
   "execution_count": 4,
   "metadata": {},
   "outputs": [
    {
     "data": {
      "text/plain": [
       "((5000, 5), (1850, 5), (3198, 5))"
      ]
     },
     "execution_count": 4,
     "metadata": {},
     "output_type": "execute_result"
    }
   ],
   "source": [
    "df1.shape , df2.shape, df3.shape"
   ]
  },
  {
   "cell_type": "markdown",
   "metadata": {},
   "source": [
    "#### The final csv file which contains around 10000 nfts"
   ]
  },
  {
   "cell_type": "code",
   "execution_count": 5,
   "metadata": {},
   "outputs": [],
   "source": [
    "df = pd.concat([df1, df2, df3])"
   ]
  },
  {
   "cell_type": "code",
   "execution_count": 6,
   "metadata": {},
   "outputs": [],
   "source": [
    "df.drop(df.columns[0], axis=1, inplace=True)"
   ]
  },
  {
   "cell_type": "code",
   "execution_count": 7,
   "metadata": {},
   "outputs": [
    {
     "data": {
      "text/plain": [
       "(10048, 4)"
      ]
     },
     "execution_count": 7,
     "metadata": {},
     "output_type": "execute_result"
    }
   ],
   "source": [
    "df.shape"
   ]
  },
  {
   "cell_type": "code",
   "execution_count": 8,
   "metadata": {},
   "outputs": [
    {
     "data": {
      "text/html": [
       "<div>\n",
       "<style scoped>\n",
       "    .dataframe tbody tr th:only-of-type {\n",
       "        vertical-align: middle;\n",
       "    }\n",
       "\n",
       "    .dataframe tbody tr th {\n",
       "        vertical-align: top;\n",
       "    }\n",
       "\n",
       "    .dataframe thead th {\n",
       "        text-align: right;\n",
       "    }\n",
       "</style>\n",
       "<table border=\"1\" class=\"dataframe\">\n",
       "  <thead>\n",
       "    <tr style=\"text-align: right;\">\n",
       "      <th></th>\n",
       "      <th>Id</th>\n",
       "      <th>Parent</th>\n",
       "      <th>Rank</th>\n",
       "      <th>Rarity Score</th>\n",
       "    </tr>\n",
       "  </thead>\n",
       "  <tbody>\n",
       "    <tr>\n",
       "      <th>0</th>\n",
       "      <td>1029</td>\n",
       "      <td>UTOPIA AVATARS</td>\n",
       "      <td>1</td>\n",
       "      <td>48471.67</td>\n",
       "    </tr>\n",
       "    <tr>\n",
       "      <th>1</th>\n",
       "      <td>286</td>\n",
       "      <td>UTOPIA AVATARS</td>\n",
       "      <td>2</td>\n",
       "      <td>48218.41</td>\n",
       "    </tr>\n",
       "    <tr>\n",
       "      <th>2</th>\n",
       "      <td>3394</td>\n",
       "      <td>UTOPIA AVATARS</td>\n",
       "      <td>3</td>\n",
       "      <td>48143.18</td>\n",
       "    </tr>\n",
       "    <tr>\n",
       "      <th>3</th>\n",
       "      <td>556</td>\n",
       "      <td>UTOPIA AVATARS</td>\n",
       "      <td>4</td>\n",
       "      <td>41887.46</td>\n",
       "    </tr>\n",
       "    <tr>\n",
       "      <th>4</th>\n",
       "      <td>2182</td>\n",
       "      <td>UTOPIA AVATARS</td>\n",
       "      <td>5</td>\n",
       "      <td>41475.51</td>\n",
       "    </tr>\n",
       "  </tbody>\n",
       "</table>\n",
       "</div>"
      ],
      "text/plain": [
       "     Id          Parent  Rank  Rarity Score\n",
       "0  1029  UTOPIA AVATARS     1      48471.67\n",
       "1   286  UTOPIA AVATARS     2      48218.41\n",
       "2  3394  UTOPIA AVATARS     3      48143.18\n",
       "3   556  UTOPIA AVATARS     4      41887.46\n",
       "4  2182  UTOPIA AVATARS     5      41475.51"
      ]
     },
     "execution_count": 8,
     "metadata": {},
     "output_type": "execute_result"
    }
   ],
   "source": [
    "df.head()"
   ]
  },
  {
   "cell_type": "code",
   "execution_count": 9,
   "metadata": {},
   "outputs": [
    {
     "data": {
      "text/html": [
       "<div>\n",
       "<style scoped>\n",
       "    .dataframe tbody tr th:only-of-type {\n",
       "        vertical-align: middle;\n",
       "    }\n",
       "\n",
       "    .dataframe tbody tr th {\n",
       "        vertical-align: top;\n",
       "    }\n",
       "\n",
       "    .dataframe thead th {\n",
       "        text-align: right;\n",
       "    }\n",
       "</style>\n",
       "<table border=\"1\" class=\"dataframe\">\n",
       "  <thead>\n",
       "    <tr style=\"text-align: right;\">\n",
       "      <th></th>\n",
       "      <th>Id</th>\n",
       "      <th>Rank</th>\n",
       "      <th>Rarity Score</th>\n",
       "    </tr>\n",
       "  </thead>\n",
       "  <tbody>\n",
       "    <tr>\n",
       "      <th>count</th>\n",
       "      <td>10048.000000</td>\n",
       "      <td>10048.000000</td>\n",
       "      <td>1.004800e+04</td>\n",
       "    </tr>\n",
       "    <tr>\n",
       "      <th>mean</th>\n",
       "      <td>2364.161525</td>\n",
       "      <td>24.148587</td>\n",
       "      <td>1.122233e+05</td>\n",
       "    </tr>\n",
       "    <tr>\n",
       "      <th>std</th>\n",
       "      <td>3265.581560</td>\n",
       "      <td>20.182119</td>\n",
       "      <td>6.264600e+05</td>\n",
       "    </tr>\n",
       "    <tr>\n",
       "      <th>min</th>\n",
       "      <td>0.000000</td>\n",
       "      <td>1.000000</td>\n",
       "      <td>4.304000e+01</td>\n",
       "    </tr>\n",
       "    <tr>\n",
       "      <th>25%</th>\n",
       "      <td>349.000000</td>\n",
       "      <td>10.750000</td>\n",
       "      <td>7.878000e+02</td>\n",
       "    </tr>\n",
       "    <tr>\n",
       "      <th>50%</th>\n",
       "      <td>1232.000000</td>\n",
       "      <td>24.000000</td>\n",
       "      <td>3.615965e+03</td>\n",
       "    </tr>\n",
       "    <tr>\n",
       "      <th>75%</th>\n",
       "      <td>3199.000000</td>\n",
       "      <td>37.000000</td>\n",
       "      <td>1.400100e+04</td>\n",
       "    </tr>\n",
       "    <tr>\n",
       "      <th>max</th>\n",
       "      <td>47229.000000</td>\n",
       "      <td>1137.000000</td>\n",
       "      <td>9.007593e+06</td>\n",
       "    </tr>\n",
       "  </tbody>\n",
       "</table>\n",
       "</div>"
      ],
      "text/plain": [
       "                 Id          Rank  Rarity Score\n",
       "count  10048.000000  10048.000000  1.004800e+04\n",
       "mean    2364.161525     24.148587  1.122233e+05\n",
       "std     3265.581560     20.182119  6.264600e+05\n",
       "min        0.000000      1.000000  4.304000e+01\n",
       "25%      349.000000     10.750000  7.878000e+02\n",
       "50%     1232.000000     24.000000  3.615965e+03\n",
       "75%     3199.000000     37.000000  1.400100e+04\n",
       "max    47229.000000   1137.000000  9.007593e+06"
      ]
     },
     "execution_count": 9,
     "metadata": {},
     "output_type": "execute_result"
    }
   ],
   "source": [
    "df.describe()"
   ]
  },
  {
   "cell_type": "code",
   "execution_count": 10,
   "metadata": {},
   "outputs": [
    {
     "data": {
      "text/plain": [
       "Id              0\n",
       "Parent          0\n",
       "Rank            0\n",
       "Rarity Score    0\n",
       "dtype: int64"
      ]
     },
     "execution_count": 10,
     "metadata": {},
     "output_type": "execute_result"
    }
   ],
   "source": [
    "df.isnull().sum()"
   ]
  },
  {
   "cell_type": "code",
   "execution_count": 11,
   "metadata": {},
   "outputs": [
    {
     "name": "stderr",
     "output_type": "stream",
     "text": [
      "<ipython-input-11-244fcaf217e6>:1: FutureWarning: As the xlwt package is no longer maintained, the xlwt engine will be removed in a future version of pandas. This is the only engine in pandas that supports writing in the xls format. Install openpyxl and write to an xlsx file instead. You can set the option io.excel.xls.writer to 'xlwt' to silence this warning. While this option is deprecated and will also raise a warning, it can be globally set and the warning suppressed.\n",
      "  df.to_excel(\"nft-collections.xls\")\n"
     ]
    }
   ],
   "source": [
    "df.to_excel(\"nft-collections.xls\")"
   ]
  },
  {
   "cell_type": "code",
   "execution_count": 12,
   "metadata": {},
   "outputs": [],
   "source": [
    "df.to_csv(\"nft-collections.csv\")"
   ]
  }
 ],
 "metadata": {
  "kernelspec": {
   "display_name": "Python 3",
   "language": "python",
   "name": "python3"
  },
  "language_info": {
   "codemirror_mode": {
    "name": "ipython",
    "version": 3
   },
   "file_extension": ".py",
   "mimetype": "text/x-python",
   "name": "python",
   "nbconvert_exporter": "python",
   "pygments_lexer": "ipython3",
   "version": "3.8.8"
  }
 },
 "nbformat": 4,
 "nbformat_minor": 2
}
